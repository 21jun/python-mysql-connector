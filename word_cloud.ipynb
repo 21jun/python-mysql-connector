{
 "cells": [
  {
   "cell_type": "code",
   "execution_count": 1,
   "metadata": {},
   "outputs": [],
   "source": [
    "from find_features import WordFrequency"
   ]
  },
  {
   "cell_type": "code",
   "execution_count": 2,
   "metadata": {},
   "outputs": [],
   "source": [
    "from database.pymysql_conn import DataBase\n",
    "\n",
    "import pandas as pd\n",
    "import numpy as np\n",
    "import re\n",
    "import nltk\n",
    "import pickle\n",
    "import stylecloud\n",
    "\n",
    "from collections import Counter\n",
    "from pathlib import Path\n",
    "from nltk.corpus import stopwords"
   ]
  },
  {
   "cell_type": "code",
   "execution_count": 3,
   "metadata": {},
   "outputs": [],
   "source": [
    "def clean_text(text):\n",
    "    text = text.lower()\n",
    "    # replace special chars and keep spaces\n",
    "    text = re.sub(r\"[ ](?=[ ])|[^A-Za-z0-9 ]+\", '', text)\n",
    "    text = re.sub(' +', ' ', text)  # replace multiple spaces and keep one\n",
    "    return text"
   ]
  },
  {
   "cell_type": "code",
   "execution_count": 4,
   "metadata": {},
   "outputs": [],
   "source": [
    "db = DataBase()\n",
    "wf = WordFrequency()"
   ]
  },
  {
   "cell_type": "code",
   "execution_count": 18,
   "metadata": {},
   "outputs": [
    {
     "name": "stdout",
     "output_type": "stream",
     "text": [
      "SpaceEngine\n",
      "Kards\n",
      "RAGE 2\n",
      "Battle for the Galaxy\n",
      "Sniper Elite V2 Remastered\n",
      "Borderlands GOTY Enhanced\n",
      "FIVE NIGHTS AT FREDDYS VR HELP WANTED\n",
      "HARDCORE MECHA\n",
      "Ironsight\n",
      "SUPER DRAGON BALL HEROES WORLD MISSION\n",
      "SteamWorld Quest Hand of Gilgamech\n",
      "missed messages\n",
      "AVA Dog Tag\n",
      "pact with a witch\n",
      "Nelke the Legendary Alchemists Ateliers of the New World\n",
      "Snooker 19\n",
      "Esports Life Tycoon\n",
      "Last Epoch\n",
      "Assassins Creed III Remastered\n",
      "Anno 1800\n",
      "OCTOPATH TRAVELER\n",
      "Yakuza Kiwami 2\n",
      "F1 2019\n",
      "Pro Cycling Manager 2019\n",
      "Otakus Adventure\n",
      "Winning Post 9\n",
      "Monster Girl Island Prologue\n",
      "DEAD OR ALIVE Xtreme Venus Vacation\n",
      "MotoGP19\n",
      "Conan Unconquered\n",
      "Pagan Online\n",
      "Sankaku Renai Love Triangle Trouble\n",
      "Blood Fresh Supply\n",
      "Super Neptunia RPG\n",
      "Layers of Fear 2\n",
      "Lords Mobile\n",
      "Lovers of Aether\n",
      "Furry Girl\n",
      "Atelier Lulua The Scion of Arland\n",
      "Dota Underlords\n",
      "MASS Builder Demo\n",
      "Kao the Kangaroo Round 2\n",
      "Trover Saves the Universe\n",
      "Paper Dolls Original\n",
      "Burning Daylight\n",
      "Idle Cooking Emperor\n",
      "Energy Engine PC Live Wallpaper\n",
      "Embark\n",
      "Ultra Savage\n",
      "Sin Slayers The First Sin\n",
      "Neon Boost\n",
      "STAR WARS Battlefront Classic 2004\n",
      "Endless World Demo\n",
      "Transformice Adventures Demo\n",
      "Neon Beats\n",
      "Fantasy Girl\n",
      "Splitgate Arena Warfare Beta\n",
      "The Defender Farm and Castle\n",
      "SpiderMan Far From Home Virtual Reality\n",
      "OVR Toolkit\n",
      "BirdGut\n",
      "Idle Guardians\n",
      "Cricket Captain 2019\n",
      "Quake II RTX\n",
      "Project Zero Deaths\n",
      "Dark Swords\n",
      "Children of Morta Demo\n",
      "Totally Reliable Delivery Service Beta\n"
     ]
    }
   ],
   "source": [
    "path = Path(\"raw_comments\")\n",
    "for gameName, item in wf.games.items():\n",
    "    print(gameName)\n",
    "    file_name = gameName+\"_comment_raw\" + \".txt\"\n",
    "    with open(path/file_name, \"w+\") as f:\n",
    "        f.write(clean_text(item['text']))"
   ]
  },
  {
   "cell_type": "code",
   "execution_count": 17,
   "metadata": {},
   "outputs": [],
   "source": [
    "stylecloud.gen_stylecloud(file_path=\"text.txt\",\n",
    "                         custom_stopwords=stopwords.words('english'))"
   ]
  },
  {
   "cell_type": "code",
   "execution_count": null,
   "metadata": {},
   "outputs": [
    {
     "name": "stdout",
     "output_type": "stream",
     "text": [
      "SpaceEngine\n",
      "Kards\n",
      "RAGE 2\n",
      "Battle for the Galaxy\n",
      "Sniper Elite V2 Remastered\n",
      "Borderlands GOTY Enhanced\n",
      "FIVE NIGHTS AT FREDDYS VR HELP WANTED\n",
      "HARDCORE MECHA\n",
      "Ironsight\n",
      "SUPER DRAGON BALL HEROES WORLD MISSION\n",
      "SteamWorld Quest Hand of Gilgamech\n",
      "missed messages\n",
      "AVA Dog Tag\n",
      "pact with a witch\n",
      "Nelke the Legendary Alchemists Ateliers of the New World\n",
      "Snooker 19\n",
      "Esports Life Tycoon\n",
      "Last Epoch\n",
      "Assassins Creed III Remastered\n",
      "Anno 1800\n",
      "OCTOPATH TRAVELER\n",
      "Yakuza Kiwami 2\n",
      "F1 2019\n",
      "Pro Cycling Manager 2019\n",
      "Otakus Adventure\n",
      "Winning Post 9\n",
      "Monster Girl Island Prologue\n",
      "DEAD OR ALIVE Xtreme Venus Vacation\n",
      "MotoGP19\n",
      "Conan Unconquered\n",
      "Pagan Online\n"
     ]
    }
   ],
   "source": [
    "path = \"raw_comments/\"\n",
    "out_path = \"word_clouds/\"\n",
    "for gameName, item in wf.games.items():\n",
    "    print(gameName)\n",
    "    file_name = gameName+\"_comment_raw\" + \".txt\"\n",
    "    out_name = gameName+'.png'\n",
    "    stylecloud.gen_stylecloud(file_path=path+file_name,\n",
    "                             custom_stopwords=stopwords.words('english'),\n",
    "                             output_name=out_path+out_name)"
   ]
  },
  {
   "cell_type": "code",
   "execution_count": null,
   "metadata": {},
   "outputs": [],
   "source": []
  }
 ],
 "metadata": {
  "kernelspec": {
   "display_name": "Python 3",
   "language": "python",
   "name": "python3"
  },
  "language_info": {
   "codemirror_mode": {
    "name": "ipython",
    "version": 3
   },
   "file_extension": ".py",
   "mimetype": "text/x-python",
   "name": "python",
   "nbconvert_exporter": "python",
   "pygments_lexer": "ipython3",
   "version": "3.6.5"
  }
 },
 "nbformat": 4,
 "nbformat_minor": 2
}
