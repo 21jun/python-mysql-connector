{
 "cells": [
  {
   "cell_type": "code",
   "execution_count": 35,
   "metadata": {},
   "outputs": [],
   "source": [
    "from find_features import WordFrequency\n",
    "from database.pymysql_conn import DataBase\n",
    "\n",
    "import pandas as pd\n",
    "import numpy as np\n",
    "import re\n",
    "import nltk\n",
    "import pickle\n",
    "import stylecloud\n",
    "\n",
    "from collections import Counter\n",
    "from pathlib import Path\n",
    "from nltk.corpus import stopwords\n",
    "from sklearn.feature_extraction.text import TfidfVectorizer, CountVectorizer\n"
   ]
  },
  {
   "cell_type": "code",
   "execution_count": 2,
   "metadata": {},
   "outputs": [],
   "source": [
    "def clean_text(text):\n",
    "    text = text.lower()\n",
    "    # replace special chars and keep spaces\n",
    "    text = re.sub(r\"[ ](?=[ ])|[^A-Za-z0-9 ]+\", '', text)\n",
    "    text = re.sub(' +', ' ', text)  # replace multiple spaces and keep one\n",
    "    return text"
   ]
  },
  {
   "cell_type": "code",
   "execution_count": 3,
   "metadata": {},
   "outputs": [],
   "source": [
    "db = DataBase()\n",
    "wf = WordFrequency()"
   ]
  },
  {
   "cell_type": "code",
   "execution_count": 10,
   "metadata": {},
   "outputs": [],
   "source": [
    "texts = {}\n",
    "\n",
    "for gameName, item in wf.games.items():\n",
    "    texts[gameName]=clean_text(item['text'])"
   ]
  },
  {
   "cell_type": "code",
   "execution_count": 16,
   "metadata": {},
   "outputs": [],
   "source": [
    "df = db.to_df(\"SELECT * FROM yt.games order by avg_player_count desc\")"
   ]
  },
  {
   "cell_type": "code",
   "execution_count": 32,
   "metadata": {},
   "outputs": [],
   "source": [
    "success=[]\n",
    "fail = []\n",
    "for i, row in df.iterrows():\n",
    "    if i< 10:\n",
    "        success.append(texts.get(row['gameName']))\n",
    "    if i > 50:\n",
    "        fail.append(texts.get(row['gameName'], ''))"
   ]
  },
  {
   "cell_type": "code",
   "execution_count": 28,
   "metadata": {},
   "outputs": [],
   "source": [
    "with open(\"top10.txt\", \"w+\") as f:\n",
    "    f.write(' '.join(success))"
   ]
  },
  {
   "cell_type": "code",
   "execution_count": 33,
   "metadata": {},
   "outputs": [],
   "source": [
    "with open(\"low.txt\", \"w+\") as f:\n",
    "    f.write(' '.join(fail))"
   ]
  },
  {
   "cell_type": "code",
   "execution_count": 36,
   "metadata": {},
   "outputs": [],
   "source": [
    "stylecloud.gen_stylecloud(file_path=\"top10.txt\",\n",
    "                         custom_stopwords=stopwords.words('english'),\n",
    "                         output_name=\"top10.png\")"
   ]
  },
  {
   "cell_type": "code",
   "execution_count": 37,
   "metadata": {},
   "outputs": [],
   "source": [
    "stylecloud.gen_stylecloud(file_path=\"low.txt\",\n",
    "                         custom_stopwords=stopwords.words('english'),\n",
    "                         output_name=\"low.png\")"
   ]
  },
  {
   "cell_type": "code",
   "execution_count": null,
   "metadata": {},
   "outputs": [],
   "source": []
  }
 ],
 "metadata": {
  "kernelspec": {
   "display_name": "Python 3",
   "language": "python",
   "name": "python3"
  },
  "language_info": {
   "codemirror_mode": {
    "name": "ipython",
    "version": 3
   },
   "file_extension": ".py",
   "mimetype": "text/x-python",
   "name": "python",
   "nbconvert_exporter": "python",
   "pygments_lexer": "ipython3",
   "version": "3.6.5"
  }
 },
 "nbformat": 4,
 "nbformat_minor": 2
}
