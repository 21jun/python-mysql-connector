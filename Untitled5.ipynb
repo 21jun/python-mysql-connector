{
 "cells": [
  {
   "cell_type": "code",
   "execution_count": 1,
   "metadata": {},
   "outputs": [],
   "source": [
    "from database.pymysql_conn import DataBase\n",
    "\n",
    "import pandas as pd\n",
    "import numpy as np\n",
    "import re\n",
    "import nltk\n",
    "import pickle\n",
    "import stylecloud\n",
    "\n",
    "from collections import Counter\n",
    "from pathlib import Path\n",
    "from nltk.corpus import stopwords"
   ]
  },
  {
   "cell_type": "code",
   "execution_count": 8,
   "metadata": {},
   "outputs": [],
   "source": [
    "def clean_text(text):\n",
    "    text = text.lower()\n",
    "    # replace special chars and keep spaces\n",
    "    text = re.sub(r\"[ ](?=[ ])|[^A-Za-z0-9 ]+\", '', text)\n",
    "    text = re.sub(' +', ' ', text)  # replace multiple spaces and keep one\n",
    "    return text"
   ]
  },
  {
   "cell_type": "code",
   "execution_count": 2,
   "metadata": {},
   "outputs": [],
   "source": [
    "db = DataBase()"
   ]
  },
  {
   "cell_type": "code",
   "execution_count": 22,
   "metadata": {},
   "outputs": [],
   "source": [
    "def to_word_cloud(SQL, db, gameName):\n",
    "    df = db.to_df(SQL)\n",
    "    print(len(df))\n",
    "    texts = []\n",
    "    for text in df['text']:\n",
    "        texts.append(clean_text(text))\n",
    "    bow = ' '.join(texts)\n",
    "    \n",
    "    stylecloud.gen_stylecloud(text=bow,\n",
    "                             custom_stopwords=stopwords.words('english'),\n",
    "                             output_name=gameName+\".png\")"
   ]
  },
  {
   "cell_type": "code",
   "execution_count": 27,
   "metadata": {},
   "outputs": [
    {
     "name": "stdout",
     "output_type": "stream",
     "text": [
      "2530\n"
     ]
    }
   ],
   "source": [
    "SQL = \"SELECT * FROM yt.yt_comment_steam where appid = 1046930 and publishedAt > '2019-06-26' and filter = 0 and language = 'en';\"\n",
    "to_word_cloud(SQL,db,'after')"
   ]
  },
  {
   "cell_type": "code",
   "execution_count": null,
   "metadata": {},
   "outputs": [],
   "source": []
  }
 ],
 "metadata": {
  "kernelspec": {
   "display_name": "Python 3",
   "language": "python",
   "name": "python3"
  },
  "language_info": {
   "codemirror_mode": {
    "name": "ipython",
    "version": 3
   },
   "file_extension": ".py",
   "mimetype": "text/x-python",
   "name": "python",
   "nbconvert_exporter": "python",
   "pygments_lexer": "ipython3",
   "version": "3.6.5"
  }
 },
 "nbformat": 4,
 "nbformat_minor": 2
}
